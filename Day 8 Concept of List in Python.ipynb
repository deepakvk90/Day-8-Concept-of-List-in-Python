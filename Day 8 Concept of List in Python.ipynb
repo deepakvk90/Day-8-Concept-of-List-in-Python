{
 "cells": [
  {
   "cell_type": "markdown",
   "id": "8c6d3840",
   "metadata": {},
   "source": [
    "# Day 8"
   ]
  },
  {
   "cell_type": "markdown",
   "id": "4c15dbee",
   "metadata": {},
   "source": [
    "# List in Python"
   ]
  },
  {
   "cell_type": "markdown",
   "id": "e0db91e8",
   "metadata": {},
   "source": [
    "# Creating A List"
   ]
  },
  {
   "cell_type": "code",
   "execution_count": 2,
   "id": "409b1135",
   "metadata": {},
   "outputs": [
    {
     "name": "stdout",
     "output_type": "stream",
     "text": [
      "['apple', 'banana', 'cherry']\n",
      "<class 'list'>\n"
     ]
    }
   ],
   "source": [
    "mylist = [\"apple\",\"banana\",\"cherry\"]\n",
    "print(mylist)\n",
    "print(type(mylist))"
   ]
  },
  {
   "cell_type": "markdown",
   "id": "dd4e7d2e",
   "metadata": {},
   "source": [
    "# Allow Duplicates"
   ]
  },
  {
   "cell_type": "code",
   "execution_count": 14,
   "id": "8f63e212",
   "metadata": {},
   "outputs": [
    {
     "name": "stdout",
     "output_type": "stream",
     "text": [
      "['apple', 'banana', 'apple', 'cherry', 'banana', 'apple']\n"
     ]
    }
   ],
   "source": [
    "mylist = [\"apple\",\"banana\",\"apple\",\"cherry\",\"banana\",\"apple\"]\n",
    "print(mylist)"
   ]
  },
  {
   "cell_type": "markdown",
   "id": "7f488e19",
   "metadata": {},
   "source": [
    "# Data Type"
   ]
  },
  {
   "cell_type": "code",
   "execution_count": 15,
   "id": "b4145b0b",
   "metadata": {},
   "outputs": [
    {
     "name": "stdout",
     "output_type": "stream",
     "text": [
      "['apple', 'banana', 'cherry']\n",
      "[2, 5, 8]\n",
      "[7.8, 8.9, 2.5]\n",
      "[True, False, True]\n"
     ]
    }
   ],
   "source": [
    "list1 = [\"apple\",\"banana\",\"cherry\"]\n",
    "list2 = [2,5,8]\n",
    "list3 = [7.8,8.9,2.5]\n",
    "list4 = [True,False,True]\n",
    "print(list1)\n",
    "print(list2)\n",
    "print(list3)\n",
    "print(list4)"
   ]
  },
  {
   "cell_type": "code",
   "execution_count": 16,
   "id": "2bd5d7f5",
   "metadata": {},
   "outputs": [
    {
     "name": "stdout",
     "output_type": "stream",
     "text": [
      "[12, -8, 5, -7, 2.3, 2.5, 3.6, 'students', 'hello', True, False]\n"
     ]
    }
   ],
   "source": [
    "a = [12,-8,5,-7,2.3,2.5,3.6,\"students\",\"hello\",True,False]\n",
    "print(a)"
   ]
  },
  {
   "cell_type": "markdown",
   "id": "dd16b511",
   "metadata": {},
   "source": [
    "# List Length"
   ]
  },
  {
   "cell_type": "code",
   "execution_count": 17,
   "id": "e045abb2",
   "metadata": {},
   "outputs": [
    {
     "name": "stdout",
     "output_type": "stream",
     "text": [
      "11\n"
     ]
    }
   ],
   "source": [
    "a = [12,-8,5,-7,2.3,2.5,3.6,\"students\",\"hello\",True,False]\n",
    "print(len(a))"
   ]
  },
  {
   "cell_type": "code",
   "execution_count": 18,
   "id": "08d8b66a",
   "metadata": {},
   "outputs": [
    {
     "name": "stdout",
     "output_type": "stream",
     "text": [
      "10\n"
     ]
    }
   ],
   "source": [
    "b = [15,8,9,3,4,6,7,8,9,25]\n",
    "print(len(b))"
   ]
  },
  {
   "cell_type": "markdown",
   "id": "546f7e53",
   "metadata": {},
   "source": [
    "# Access Items"
   ]
  },
  {
   "cell_type": "code",
   "execution_count": 19,
   "id": "500d617d",
   "metadata": {},
   "outputs": [
    {
     "name": "stdout",
     "output_type": "stream",
     "text": [
      "15\n"
     ]
    }
   ],
   "source": [
    "thislist = [12,15,26,78,14,25,96,142,52,22,6,5]\n",
    "print(thislist[1])"
   ]
  },
  {
   "cell_type": "code",
   "execution_count": 20,
   "id": "03d035d5",
   "metadata": {},
   "outputs": [
    {
     "name": "stdout",
     "output_type": "stream",
     "text": [
      "142\n"
     ]
    }
   ],
   "source": [
    "thislist = [12,15,26,78,14,25,96,142,52,22,6,5]\n",
    "print(thislist[7])"
   ]
  },
  {
   "cell_type": "code",
   "execution_count": 21,
   "id": "d16145c2",
   "metadata": {},
   "outputs": [
    {
     "name": "stdout",
     "output_type": "stream",
     "text": [
      "96\n"
     ]
    }
   ],
   "source": [
    "#Reverse\n",
    "thislist = [12,15,26,78,14,25,96,142,52,22,6,5]\n",
    "print(thislist[-6])"
   ]
  },
  {
   "cell_type": "markdown",
   "id": "72facd72",
   "metadata": {},
   "source": [
    "# Slicing of List"
   ]
  },
  {
   "cell_type": "code",
   "execution_count": 22,
   "id": "53a48615",
   "metadata": {},
   "outputs": [
    {
     "name": "stdout",
     "output_type": "stream",
     "text": [
      "[12, 15, 26, 78, 14, 25]\n"
     ]
    }
   ],
   "source": [
    "thislist = [12,15,26,78,14,25,96,142,52,22,6,5]\n",
    "print(thislist[0:6])"
   ]
  },
  {
   "cell_type": "code",
   "execution_count": 23,
   "id": "c5670494",
   "metadata": {},
   "outputs": [
    {
     "name": "stdout",
     "output_type": "stream",
     "text": [
      "[78, 14, 25, 96, 142, 52]\n"
     ]
    }
   ],
   "source": [
    "thislist = [12,15,26,78,14,25,96,142,52,22,6,5]\n",
    "print(thislist[3:9])"
   ]
  },
  {
   "cell_type": "code",
   "execution_count": 24,
   "id": "e63634c1",
   "metadata": {},
   "outputs": [
    {
     "name": "stdout",
     "output_type": "stream",
     "text": [
      "[12, 26, 14, 96, 52, 6]\n"
     ]
    }
   ],
   "source": [
    "thislist = [12,15,26,78,14,25,96,142,52,22,6,5]\n",
    "print(thislist[0:12:2])"
   ]
  },
  {
   "cell_type": "markdown",
   "id": "f8998d71",
   "metadata": {},
   "source": [
    "# Change Items"
   ]
  },
  {
   "cell_type": "code",
   "execution_count": 26,
   "id": "adda9c3f",
   "metadata": {},
   "outputs": [
    {
     "name": "stdout",
     "output_type": "stream",
     "text": [
      "['apple', 'Strawberry', 'cherry']\n"
     ]
    }
   ],
   "source": [
    "thislist = [\"apple\",\"banana\",\"cherry\"]\n",
    "thislist[1] = \"Strawberry\"\n",
    "print(thislist)"
   ]
  },
  {
   "cell_type": "code",
   "execution_count": 28,
   "id": "753cb5f6",
   "metadata": {},
   "outputs": [
    {
     "name": "stdout",
     "output_type": "stream",
     "text": [
      "[12, 14, 'students', 16, 8, -9, 5, -3, 41, -9]\n"
     ]
    }
   ],
   "source": [
    "a = [12,14,15,16,8,-9,5,-3,41,-9]\n",
    "a[2] = \"students\"\n",
    "print(a)"
   ]
  },
  {
   "cell_type": "markdown",
   "id": "074cb672",
   "metadata": {},
   "source": [
    "# Change A Range of Item Values"
   ]
  },
  {
   "cell_type": "code",
   "execution_count": 29,
   "id": "0962fb89",
   "metadata": {},
   "outputs": [
    {
     "name": "stdout",
     "output_type": "stream",
     "text": [
      "[12, 14, 'books', 'pen', 'paper', 8, -9, 5, -3, 41, -9]\n"
     ]
    }
   ],
   "source": [
    "a = [12,14,15,16,8,-9,5,-3,41,-9]\n",
    "a[2:4] = [\"books\",\"pen\",\"paper\"]\n",
    "print(a)"
   ]
  },
  {
   "cell_type": "code",
   "execution_count": 30,
   "id": "3b25abeb",
   "metadata": {},
   "outputs": [
    {
     "name": "stdout",
     "output_type": "stream",
     "text": [
      "[12, 14, 15, 78, 96, 25, -9]\n"
     ]
    }
   ],
   "source": [
    "a = [12,14,15,78,96,25]\n",
    "a.append(-9)\n",
    "print(a)"
   ]
  },
  {
   "cell_type": "code",
   "execution_count": 33,
   "id": "fb0ceb7a",
   "metadata": {},
   "outputs": [
    {
     "name": "stdout",
     "output_type": "stream",
     "text": [
      "['apple', 'hello']\n"
     ]
    }
   ],
   "source": [
    "m = [\"apple\",\"student\",\"hello\"]\n",
    "m.remove(\"student\")\n",
    "print(m)"
   ]
  },
  {
   "cell_type": "code",
   "execution_count": 34,
   "id": "0162b7f9",
   "metadata": {},
   "outputs": [
    {
     "name": "stdout",
     "output_type": "stream",
     "text": [
      "['table', 'sofa']\n"
     ]
    }
   ],
   "source": [
    "t = [\"table\",\"chair\",\"sofa\"]\n",
    "t.remove(\"chair\")\n",
    "print(t)"
   ]
  },
  {
   "cell_type": "code",
   "execution_count": 36,
   "id": "65fb745b",
   "metadata": {},
   "outputs": [
    {
     "name": "stdout",
     "output_type": "stream",
     "text": [
      "['data', 'python', 5, 4, 3, 2, 1]\n"
     ]
    }
   ],
   "source": [
    "mylist = [1,2,3,4,5,\"python\",\"data\"]\n",
    "mylist.reverse()\n",
    "print(mylist)"
   ]
  },
  {
   "cell_type": "code",
   "execution_count": 43,
   "id": "75fee3d1",
   "metadata": {},
   "outputs": [
    {
     "name": "stdout",
     "output_type": "stream",
     "text": [
      "13\n",
      "the sum of a list is 475\n"
     ]
    }
   ],
   "source": [
    "l = [14,15,12,78,-9,23,-8,52,74,89,25,102,8]\n",
    "print(len(l))\n",
    "a = 0\n",
    "for i in range(13):\n",
    "    a = a+l[i]\n",
    "    i = i+1\n",
    "print(\"the sum of a list is\", a)"
   ]
  },
  {
   "cell_type": "markdown",
   "id": "32b3670d",
   "metadata": {},
   "source": [
    "# multiply all the numbers of a list"
   ]
  },
  {
   "cell_type": "code",
   "execution_count": 48,
   "id": "0a598d1e",
   "metadata": {},
   "outputs": [
    {
     "name": "stdout",
     "output_type": "stream",
     "text": [
      "3628800\n"
     ]
    }
   ],
   "source": [
    "a = [1,2,3,4,5,6,7,8,9,10]\n",
    "result = 1\n",
    "for number in a:\n",
    "    result *= number\n",
    "print(result)"
   ]
  },
  {
   "cell_type": "code",
   "execution_count": null,
   "id": "cbffc319",
   "metadata": {},
   "outputs": [],
   "source": []
  }
 ],
 "metadata": {
  "kernelspec": {
   "display_name": "Python 3 (ipykernel)",
   "language": "python",
   "name": "python3"
  },
  "language_info": {
   "codemirror_mode": {
    "name": "ipython",
    "version": 3
   },
   "file_extension": ".py",
   "mimetype": "text/x-python",
   "name": "python",
   "nbconvert_exporter": "python",
   "pygments_lexer": "ipython3",
   "version": "3.11.4"
  }
 },
 "nbformat": 4,
 "nbformat_minor": 5
}
